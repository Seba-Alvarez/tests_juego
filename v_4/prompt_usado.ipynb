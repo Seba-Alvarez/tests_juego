{
 "cells": [
  {
   "cell_type": "markdown",
   "id": "d932ab4e",
   "metadata": {},
   "source": [
    "Se le pasó el código completo (v_3) y se usó este prompt:\n",
    "\n",
    "Quiero pasar el código a pygame.  Además, no hay que dibujar las cartas a mano, porque tengo imágenes. Las imágenes se llaman:\n",
    "\n",
    "- fondo, que es la imagen que va atrás de fondo\n",
    "- mazo, es lo que quiero que este a la derecha\n",
    "- carta_extra, que es la función ElminarVidaDelRival\n",
    "- carta_eliminar, que es la función EliminarCartaDelRival\n",
    "- carta_extra, que es la función RobarCartaExtraDelMazo\n",
    "- carta_mostrar, que es la función MostrarCartaDelRival\n",
    "- carta_saltar, que es la función SaltarTurnoDelRival\n",
    "- carta_relleno, que es la función CartaDeRelleno\n",
    "\t-Esta función está repetida en la lista mazo para que aumente la posibilidad de que \taparezca. Eso solo quiere decir que se llama varias veces a la función no que hay muchas \tcarta_relleno.\n",
    "\n",
    "Las vidas está bien que simplemente sean números por ahora. Quiero que se vean las cartas del jugador actual abajo, mientras que las cartas del otro, simplemente sean un número arriba. Para aclarar, tiene que mostrarse de quien es el turno, del jugador que sea el turno se muestran las cartas para jugar, mientras que del rival solo se muestra un número arriba que significa la cantidad de cartas que tiene. La lógica para saber de quien es el turno y quien es el rival en cada turno ya está implementada en el código. También quiero que el mazo este a la derecha (de forma visual, usando la imagen \"mazo\"). Las vidas, son simbolizadas por números (es decir, jugador actual tiene x vidas y jugador rival tiene tantas vidas, la lógica ya está implementada en el programa). El fondo que sea de la imagen \"fondo\" y el tamaño de la ventana de 1000 x 500, pero que sea dinámico y si lo cambio que no me rompa la posición de las cartas, las vidas y el mazo. No me des un bloque de código solo, tiene que tener una estructura modular igual que el código que te pase. En concreto, la estructura de carpetas tiene que ser de la siguiente forma:\n",
    "\n",
    "- test_juego(es la carpeta raiz) \n",
    "\t- dentro de test_juego va a haber una carpeta llamada v_4, ahí van los archivos\n",
    "\t\t- dentro de v_4 va a haber una carpeta llamada imágenes, donde van las imágenes.\n",
    "\n",
    "Para \"jugar\" hay que hacer click en la carta y esto va a llamar a la función correspondiente, ya no es mas por inputs, ahora es con click. Quiero que el robo del mazo cuando el jugador sea sin cartas sea automático. Presta importante atención a la función CartaDeRelleno, esta esta guardada varias veces en la lista mazo, pero siempre es la misma\n",
    "No es necesario poner comentarios, los agrego yo después.\n",
    "El rpograma tiene que ser funcional y tiene que estar completo, todas las funcionalidades que tiene el código que te pasé tienen que estar en este código nuevo.\n",
    "Para especificar como se juega, las cartas del jugador actual tienen que estar estáticas en la parte inferior de la pantalla. Para jugar, hay que hacer click en las cartas y estas van a llamar a las funciones correspondientes. Para proporcionar un ejemplo visual, pensa que es un juego parecido al uno (juego de cartas). Cada carta tiene su función correspondiente, eso lo especifiqué en que imagen corresponde a que función."
   ]
  }
 ],
 "metadata": {
  "language_info": {
   "name": "python"
  }
 },
 "nbformat": 4,
 "nbformat_minor": 5
}
